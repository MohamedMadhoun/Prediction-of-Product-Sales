{
  "nbformat": 4,
  "nbformat_minor": 0,
  "metadata": {
    "colab": {
      "provenance": [],
      "authorship_tag": "ABX9TyNRwS8WwBvK0YWWxagqYjBl",
      "include_colab_link": true
    },
    "kernelspec": {
      "name": "python3",
      "display_name": "Python 3"
    },
    "language_info": {
      "name": "python"
    }
  },
  "cells": [
    {
      "cell_type": "markdown",
      "metadata": {
        "id": "view-in-github",
        "colab_type": "text"
      },
      "source": [
        "<a href=\"https://colab.research.google.com/github/MohamedMadhoun/Prediction-of-Product-Sales/blob/main/Prediction_of_Product_Sales.ipynb\" target=\"_parent\"><img src=\"https://colab.research.google.com/assets/colab-badge.svg\" alt=\"Open In Colab\"/></a>"
      ]
    },
    {
      "cell_type": "markdown",
      "source": [
        "#  Prediction of Product Sales\n"
      ],
      "metadata": {
        "id": "rFqX06aRPZIa"
      }
    },
    {
      "cell_type": "markdown",
      "source": [
        "- Author: Mohamed Madhoun"
      ],
      "metadata": {
        "id": "Q1uiy2HKPjgi"
      }
    },
    {
      "cell_type": "markdown",
      "source": [
        "## Project Overview"
      ],
      "metadata": {
        "id": "1fKfCD4nQQDa"
      }
    },
    {
      "cell_type": "markdown",
      "source": [],
      "metadata": {
        "id": "HCGdySw6Q-Ka"
      }
    },
    {
      "cell_type": "markdown",
      "source": [
        "## Load and Inspect Data\n"
      ],
      "metadata": {
        "id": "-Xfk2bbMP8VK"
      }
    },
    {
      "cell_type": "code",
      "source": [],
      "metadata": {
        "id": "ilj8MuI-QCjK"
      },
      "execution_count": null,
      "outputs": []
    },
    {
      "cell_type": "markdown",
      "source": [
        "## Exploratory Data Analysis\n"
      ],
      "metadata": {
        "id": "s7Rfv4OfQsUK"
      }
    },
    {
      "cell_type": "code",
      "source": [],
      "metadata": {
        "id": "Y877XL2vQtEa"
      },
      "execution_count": null,
      "outputs": []
    },
    {
      "cell_type": "markdown",
      "source": [
        "## Feature Inspection\n"
      ],
      "metadata": {
        "id": "myDNQL-tQwDq"
      }
    },
    {
      "cell_type": "code",
      "source": [],
      "metadata": {
        "id": "piAVXE-6QyDB"
      },
      "execution_count": null,
      "outputs": []
    }
  ]
}
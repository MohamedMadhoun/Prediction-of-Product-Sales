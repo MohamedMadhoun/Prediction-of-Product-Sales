{
  "nbformat": 4,
  "nbformat_minor": 0,
  "metadata": {
    "colab": {
      "provenance": [],
      "mount_file_id": "https://github.com/MohamedMadhoun/Prediction-of-Product-Sales/blob/main/Prediction_of_Product_Sales.ipynb",
      "authorship_tag": "ABX9TyPSKc6Nc35Vo7a9y4vZrqMA",
      "include_colab_link": true
    },
    "kernelspec": {
      "name": "python3",
      "display_name": "Python 3"
    },
    "language_info": {
      "name": "python"
    }
  },
  "cells": [
    {
      "cell_type": "markdown",
      "metadata": {
        "id": "view-in-github",
        "colab_type": "text"
      },
      "source": [
        "<a href=\"https://colab.research.google.com/github/MohamedMadhoun/Prediction-of-Product-Sales/blob/main/prediction_of_product_sales.ipynb\" target=\"_parent\"><img src=\"https://colab.research.google.com/assets/colab-badge.svg\" alt=\"Open In Colab\"/></a>"
      ]
    },
    {
      "cell_type": "markdown",
      "source": [
        "#  Prediction of Product Sales\n"
      ],
      "metadata": {
        "id": "rFqX06aRPZIa"
      }
    },
    {
      "cell_type": "markdown",
      "source": [
        "- Author: Mohamed Madhoun"
      ],
      "metadata": {
        "id": "Q1uiy2HKPjgi"
      }
    },
    {
      "cell_type": "markdown",
      "source": [
        "## Project Overview"
      ],
      "metadata": {
        "id": "1fKfCD4nQQDa"
      }
    },
    {
      "cell_type": "markdown",
      "source": [],
      "metadata": {
        "id": "HCGdySw6Q-Ka"
      }
    },
    {
      "cell_type": "markdown",
      "source": [
        "## Load and Inspect Data\n"
      ],
      "metadata": {
        "id": "-Xfk2bbMP8VK"
      }
    },
    {
      "cell_type": "code",
      "source": [
        "import pandas as pd\n",
        "fpath=\"/content/drive/MyDrive/AXSOSACADEMY/01-Fundamentals/Week02/Data/sales_predictions_2023.csv\"\n",
        "df = pd.read_csv(fpath)\n",
        "print(df.head())\n",
        "df.info()"
      ],
      "metadata": {
        "id": "ilj8MuI-QCjK",
        "colab": {
          "base_uri": "https://localhost:8080/"
        },
        "outputId": "2f45e4a2-543d-415d-83d1-8de97f0721a2"
      },
      "execution_count": null,
      "outputs": [
        {
          "output_type": "stream",
          "name": "stdout",
          "text": [
            "  Item_Identifier  Item_Weight Item_Fat_Content  Item_Visibility  \\\n",
            "0           FDA15         9.30          Low Fat         0.016047   \n",
            "1           DRC01         5.92          Regular         0.019278   \n",
            "2           FDN15        17.50          Low Fat         0.016760   \n",
            "3           FDX07        19.20          Regular         0.000000   \n",
            "4           NCD19         8.93          Low Fat         0.000000   \n",
            "\n",
            "               Item_Type  Item_MRP Outlet_Identifier  \\\n",
            "0                  Dairy  249.8092            OUT049   \n",
            "1            Soft Drinks   48.2692            OUT018   \n",
            "2                   Meat  141.6180            OUT049   \n",
            "3  Fruits and Vegetables  182.0950            OUT010   \n",
            "4              Household   53.8614            OUT013   \n",
            "\n",
            "   Outlet_Establishment_Year Outlet_Size Outlet_Location_Type  \\\n",
            "0                       1999      Medium               Tier 1   \n",
            "1                       2009      Medium               Tier 3   \n",
            "2                       1999      Medium               Tier 1   \n",
            "3                       1998         NaN               Tier 3   \n",
            "4                       1987        High               Tier 3   \n",
            "\n",
            "         Outlet_Type  Item_Outlet_Sales  \n",
            "0  Supermarket Type1          3735.1380  \n",
            "1  Supermarket Type2           443.4228  \n",
            "2  Supermarket Type1          2097.2700  \n",
            "3      Grocery Store           732.3800  \n",
            "4  Supermarket Type1           994.7052  \n",
            "<class 'pandas.core.frame.DataFrame'>\n",
            "RangeIndex: 8523 entries, 0 to 8522\n",
            "Data columns (total 12 columns):\n",
            " #   Column                     Non-Null Count  Dtype  \n",
            "---  ------                     --------------  -----  \n",
            " 0   Item_Identifier            8523 non-null   object \n",
            " 1   Item_Weight                7060 non-null   float64\n",
            " 2   Item_Fat_Content           8523 non-null   object \n",
            " 3   Item_Visibility            8523 non-null   float64\n",
            " 4   Item_Type                  8523 non-null   object \n",
            " 5   Item_MRP                   8523 non-null   float64\n",
            " 6   Outlet_Identifier          8523 non-null   object \n",
            " 7   Outlet_Establishment_Year  8523 non-null   int64  \n",
            " 8   Outlet_Size                6113 non-null   object \n",
            " 9   Outlet_Location_Type       8523 non-null   object \n",
            " 10  Outlet_Type                8523 non-null   object \n",
            " 11  Item_Outlet_Sales          8523 non-null   float64\n",
            "dtypes: float64(4), int64(1), object(7)\n",
            "memory usage: 799.2+ KB\n"
          ]
        }
      ]
    },
    {
      "cell_type": "markdown",
      "source": [
        "\n",
        "\n",
        "```\n",
        "# This is formatted as code\n",
        "```\n",
        "\n",
        "##  Data Cleanning\n"
      ],
      "metadata": {
        "id": "s7Rfv4OfQsUK"
      }
    },
    {
      "cell_type": "markdown",
      "source": [
        "1) How many rows and columns?"
      ],
      "metadata": {
        "id": "WNEusy6FkAFi"
      }
    },
    {
      "cell_type": "code",
      "source": [
        "print(f\"The dataset has {df.shape[0]} rows and {df.shape[1]} columns.\")\n"
      ],
      "metadata": {
        "id": "Y877XL2vQtEa",
        "colab": {
          "base_uri": "https://localhost:8080/"
        },
        "outputId": "f1a74853-6473-468a-ccba-d5fc550654be"
      },
      "execution_count": null,
      "outputs": [
        {
          "output_type": "stream",
          "name": "stdout",
          "text": [
            "The dataset has 8523 rows and 12 columns.\n"
          ]
        }
      ]
    },
    {
      "cell_type": "markdown",
      "source": [
        "2) What are the datatypes of each variable?\n",
        "\n"
      ],
      "metadata": {
        "id": "E-0AQSWCkCTK"
      }
    },
    {
      "cell_type": "code",
      "source": [
        "print(df.dtypes)"
      ],
      "metadata": {
        "colab": {
          "base_uri": "https://localhost:8080/"
        },
        "id": "fNVMhi4qf0Ha",
        "outputId": "6d49930a-68d3-4475-bbd3-7879d95755c6"
      },
      "execution_count": null,
      "outputs": [
        {
          "output_type": "stream",
          "name": "stdout",
          "text": [
            "Item_Identifier               object\n",
            "Item_Weight                  float64\n",
            "Item_Fat_Content              object\n",
            "Item_Visibility              float64\n",
            "Item_Type                     object\n",
            "Item_MRP                     float64\n",
            "Outlet_Identifier             object\n",
            "Outlet_Establishment_Year      int64\n",
            "Outlet_Size                   object\n",
            "Outlet_Location_Type          object\n",
            "Outlet_Type                   object\n",
            "Item_Outlet_Sales            float64\n",
            "dtype: object\n"
          ]
        }
      ]
    },
    {
      "cell_type": "markdown",
      "source": [
        "3) Are there duplicates? If so, drop any duplicates.\n",
        "\n"
      ],
      "metadata": {
        "id": "19lQZbm_kHHM"
      }
    },
    {
      "cell_type": "code",
      "source": [
        "duplicates = df[df.duplicated()]\n",
        "print(f\"There are {duplicates.shape[0]} duplicate rows.\")"
      ],
      "metadata": {
        "colab": {
          "base_uri": "https://localhost:8080/"
        },
        "id": "6ElwesTgf2up",
        "outputId": "91f4c14c-2915-471f-fb64-8249641c6841"
      },
      "execution_count": null,
      "outputs": [
        {
          "output_type": "stream",
          "name": "stdout",
          "text": [
            "There are 0 duplicate rows.\n"
          ]
        }
      ]
    },
    {
      "cell_type": "markdown",
      "source": [
        "4) Identify missing values.\n",
        "\n"
      ],
      "metadata": {
        "id": "RfF3FnPXkKMi"
      }
    },
    {
      "cell_type": "code",
      "source": [
        "print(df.isnull().sum())"
      ],
      "metadata": {
        "colab": {
          "base_uri": "https://localhost:8080/"
        },
        "id": "id2_x_o8gEGB",
        "outputId": "04ccfe73-d566-4e26-d6eb-31cbfe1b8b07"
      },
      "execution_count": null,
      "outputs": [
        {
          "output_type": "stream",
          "name": "stdout",
          "text": [
            "Item_Identifier                 0\n",
            "Item_Weight                  1463\n",
            "Item_Fat_Content                0\n",
            "Item_Visibility                 0\n",
            "Item_Type                       0\n",
            "Item_MRP                        0\n",
            "Outlet_Identifier               0\n",
            "Outlet_Establishment_Year       0\n",
            "Outlet_Size                  2410\n",
            "Outlet_Location_Type            0\n",
            "Outlet_Type                     0\n",
            "Item_Outlet_Sales               0\n",
            "dtype: int64\n"
          ]
        }
      ]
    },
    {
      "cell_type": "markdown",
      "source": [
        "5) Address the missing values by using a placeholder value.\n",
        "\n"
      ],
      "metadata": {
        "id": "1b4OPF08kM5K"
      }
    },
    {
      "cell_type": "code",
      "source": [
        "df['Outlet_Size'].fillna('MISSING', inplace=True)\n",
        "df['Item_Weight'].fillna(-1, inplace=True)"
      ],
      "metadata": {
        "colab": {
          "base_uri": "https://localhost:8080/"
        },
        "id": "JEaBqaK0gJNp",
        "outputId": "49ed1f8a-3edd-4763-9b58-7c029fed8f85"
      },
      "execution_count": null,
      "outputs": [
        {
          "output_type": "stream",
          "name": "stderr",
          "text": [
            "<ipython-input-7-bfca9bf02ec4>:1: FutureWarning: A value is trying to be set on a copy of a DataFrame or Series through chained assignment using an inplace method.\n",
            "The behavior will change in pandas 3.0. This inplace method will never work because the intermediate object on which we are setting values always behaves as a copy.\n",
            "\n",
            "For example, when doing 'df[col].method(value, inplace=True)', try using 'df.method({col: value}, inplace=True)' or df[col] = df[col].method(value) instead, to perform the operation inplace on the original object.\n",
            "\n",
            "\n",
            "  df['Outlet_Size'].fillna('MISSING', inplace=True)\n",
            "<ipython-input-7-bfca9bf02ec4>:2: FutureWarning: A value is trying to be set on a copy of a DataFrame or Series through chained assignment using an inplace method.\n",
            "The behavior will change in pandas 3.0. This inplace method will never work because the intermediate object on which we are setting values always behaves as a copy.\n",
            "\n",
            "For example, when doing 'df[col].method(value, inplace=True)', try using 'df.method({col: value}, inplace=True)' or df[col] = df[col].method(value) instead, to perform the operation inplace on the original object.\n",
            "\n",
            "\n",
            "  df['Item_Weight'].fillna(-1, inplace=True)\n"
          ]
        }
      ]
    },
    {
      "cell_type": "markdown",
      "source": [
        "6) Confirm that there are no missing values after addressing them.\n",
        "\n"
      ],
      "metadata": {
        "id": "S8fvv25HkQsK"
      }
    },
    {
      "cell_type": "code",
      "source": [
        "print(df.isnull().sum())\n"
      ],
      "metadata": {
        "colab": {
          "base_uri": "https://localhost:8080/"
        },
        "id": "tcg4Ly8ygKxZ",
        "outputId": "e68af2ed-c610-47fc-f78a-50608ec8da2b"
      },
      "execution_count": null,
      "outputs": [
        {
          "output_type": "stream",
          "name": "stdout",
          "text": [
            "Item_Identifier              0\n",
            "Item_Weight                  0\n",
            "Item_Fat_Content             0\n",
            "Item_Visibility              0\n",
            "Item_Type                    0\n",
            "Item_MRP                     0\n",
            "Outlet_Identifier            0\n",
            "Outlet_Establishment_Year    0\n",
            "Outlet_Size                  0\n",
            "Outlet_Location_Type         0\n",
            "Outlet_Type                  0\n",
            "Item_Outlet_Sales            0\n",
            "dtype: int64\n"
          ]
        }
      ]
    },
    {
      "cell_type": "markdown",
      "source": [
        "Find and fix any inconsistent categories of data (for example: fix cat, Cat, and cats so that they are consistent)."
      ],
      "metadata": {
        "id": "4Bay6I4IkYHa"
      }
    },
    {
      "cell_type": "code",
      "source": [
        "for column in df.columns:\n",
        "    print(f\"Value counts for column: {column}\")\n",
        "    print(df[column].value_counts())\n",
        "    print(\"\\n\")"
      ],
      "metadata": {
        "colab": {
          "base_uri": "https://localhost:8080/"
        },
        "id": "d5yYJ9gGgqCK",
        "outputId": "45c765cd-9207-4a09-a006-ebc314fbb47b"
      },
      "execution_count": null,
      "outputs": [
        {
          "output_type": "stream",
          "name": "stdout",
          "text": [
            "Value counts for column: Item_Identifier\n",
            "Item_Identifier\n",
            "FDW13    10\n",
            "FDG33    10\n",
            "FDX31     9\n",
            "FDT07     9\n",
            "NCY18     9\n",
            "         ..\n",
            "FDO33     1\n",
            "FDK57     1\n",
            "FDT35     1\n",
            "FDN52     1\n",
            "FDE52     1\n",
            "Name: count, Length: 1559, dtype: int64\n",
            "\n",
            "\n",
            "Value counts for column: Item_Weight\n",
            "Item_Weight\n",
            "-1.000     1463\n",
            " 12.150      86\n",
            " 17.600      82\n",
            " 13.650      77\n",
            " 11.800      76\n",
            "           ... \n",
            " 5.210        2\n",
            " 9.420        1\n",
            " 7.685        1\n",
            " 5.400        1\n",
            " 6.520        1\n",
            "Name: count, Length: 416, dtype: int64\n",
            "\n",
            "\n",
            "Value counts for column: Item_Fat_Content\n",
            "Item_Fat_Content\n",
            "Low Fat    5089\n",
            "Regular    2889\n",
            "LF          316\n",
            "reg         117\n",
            "low fat     112\n",
            "Name: count, dtype: int64\n",
            "\n",
            "\n",
            "Value counts for column: Item_Visibility\n",
            "Item_Visibility\n",
            "0.000000    526\n",
            "0.076975      3\n",
            "0.061271      2\n",
            "0.046825      2\n",
            "0.112399      2\n",
            "           ... \n",
            "0.054142      1\n",
            "0.018920      1\n",
            "0.044974      1\n",
            "0.103611      1\n",
            "0.083060      1\n",
            "Name: count, Length: 7880, dtype: int64\n",
            "\n",
            "\n",
            "Value counts for column: Item_Type\n",
            "Item_Type\n",
            "Fruits and Vegetables    1232\n",
            "Snack Foods              1200\n",
            "Household                 910\n",
            "Frozen Foods              856\n",
            "Dairy                     682\n",
            "Canned                    649\n",
            "Baking Goods              648\n",
            "Health and Hygiene        520\n",
            "Soft Drinks               445\n",
            "Meat                      425\n",
            "Breads                    251\n",
            "Hard Drinks               214\n",
            "Others                    169\n",
            "Starchy Foods             148\n",
            "Breakfast                 110\n",
            "Seafood                    64\n",
            "Name: count, dtype: int64\n",
            "\n",
            "\n",
            "Value counts for column: Item_MRP\n",
            "Item_MRP\n",
            "172.0422    7\n",
            "170.5422    6\n",
            "142.0154    6\n",
            "109.5228    6\n",
            "188.1872    6\n",
            "           ..\n",
            "108.7912    1\n",
            "157.5972    1\n",
            "245.2118    1\n",
            "232.3326    1\n",
            "39.6164     1\n",
            "Name: count, Length: 5938, dtype: int64\n",
            "\n",
            "\n",
            "Value counts for column: Outlet_Identifier\n",
            "Outlet_Identifier\n",
            "OUT027    935\n",
            "OUT013    932\n",
            "OUT035    930\n",
            "OUT049    930\n",
            "OUT046    930\n",
            "OUT045    929\n",
            "OUT018    928\n",
            "OUT017    926\n",
            "OUT010    555\n",
            "OUT019    528\n",
            "Name: count, dtype: int64\n",
            "\n",
            "\n",
            "Value counts for column: Outlet_Establishment_Year\n",
            "Outlet_Establishment_Year\n",
            "1985    1463\n",
            "1987     932\n",
            "1999     930\n",
            "1997     930\n",
            "2004     930\n",
            "2002     929\n",
            "2009     928\n",
            "2007     926\n",
            "1998     555\n",
            "Name: count, dtype: int64\n",
            "\n",
            "\n",
            "Value counts for column: Outlet_Size\n",
            "Outlet_Size\n",
            "Medium     2793\n",
            "MISSING    2410\n",
            "Small      2388\n",
            "High        932\n",
            "Name: count, dtype: int64\n",
            "\n",
            "\n",
            "Value counts for column: Outlet_Location_Type\n",
            "Outlet_Location_Type\n",
            "Tier 3    3350\n",
            "Tier 2    2785\n",
            "Tier 1    2388\n",
            "Name: count, dtype: int64\n",
            "\n",
            "\n",
            "Value counts for column: Outlet_Type\n",
            "Outlet_Type\n",
            "Supermarket Type1    5577\n",
            "Grocery Store        1083\n",
            "Supermarket Type3     935\n",
            "Supermarket Type2     928\n",
            "Name: count, dtype: int64\n",
            "\n",
            "\n",
            "Value counts for column: Item_Outlet_Sales\n",
            "Item_Outlet_Sales\n",
            "958.7520     17\n",
            "1342.2528    16\n",
            "703.0848     15\n",
            "1845.5976    15\n",
            "1278.3360    14\n",
            "             ..\n",
            "2224.4378     1\n",
            "2419.5172     1\n",
            "4111.3150     1\n",
            "45.2744       1\n",
            "6261.8490     1\n",
            "Name: count, Length: 3493, dtype: int64\n",
            "\n",
            "\n"
          ]
        }
      ]
    },
    {
      "cell_type": "code",
      "source": [
        "df['Item_Fat_Content'] = df['Item_Fat_Content'].str.lower().replace({\n",
        "    'low fat': 'low fat',\n",
        "    'lf': 'low fat',\n",
        "    'regular': 'regular'\n",
        "})\n",
        "\n",
        "\n",
        "print(df['Item_Fat_Content'].value_counts())"
      ],
      "metadata": {
        "colab": {
          "base_uri": "https://localhost:8080/"
        },
        "id": "8A6o2J5LgsNa",
        "outputId": "a96c7020-b5bf-4b64-c9c3-ed3abedbb7bf"
      },
      "execution_count": null,
      "outputs": [
        {
          "output_type": "stream",
          "name": "stdout",
          "text": [
            "Item_Fat_Content\n",
            "low fat    5517\n",
            "regular    2889\n",
            "reg         117\n",
            "Name: count, dtype: int64\n"
          ]
        }
      ]
    },
    {
      "cell_type": "markdown",
      "source": [
        "8) For any numerical columns, obtain the summary statistics of each (min, max, mean).\n",
        "\n"
      ],
      "metadata": {
        "id": "PPCWGuZ7katp"
      }
    },
    {
      "cell_type": "code",
      "source": [
        "print(df.describe())"
      ],
      "metadata": {
        "colab": {
          "base_uri": "https://localhost:8080/"
        },
        "id": "G6tLJr9Li90B",
        "outputId": "c5130eea-45c6-486a-8605-58c7968408e9"
      },
      "execution_count": null,
      "outputs": [
        {
          "output_type": "stream",
          "name": "stdout",
          "text": [
            "       Item_Weight  Item_Visibility     Item_MRP  Outlet_Establishment_Year  \\\n",
            "count  8523.000000      8523.000000  8523.000000                8523.000000   \n",
            "mean     10.478936         0.066132   140.992782                1997.831867   \n",
            "std       6.720742         0.051598    62.275067                   8.371760   \n",
            "min      -1.000000         0.000000    31.290000                1985.000000   \n",
            "25%       6.650000         0.026989    93.826500                1987.000000   \n",
            "50%      11.000000         0.053931   143.012800                1999.000000   \n",
            "75%      16.000000         0.094585   185.643700                2004.000000   \n",
            "max      21.350000         0.328391   266.888400                2009.000000   \n",
            "\n",
            "       Item_Outlet_Sales  \n",
            "count        8523.000000  \n",
            "mean         2181.288914  \n",
            "std          1706.499616  \n",
            "min            33.290000  \n",
            "25%           834.247400  \n",
            "50%          1794.331000  \n",
            "75%          3101.296400  \n",
            "max         13086.964800  \n"
          ]
        }
      ]
    }
  ]
}